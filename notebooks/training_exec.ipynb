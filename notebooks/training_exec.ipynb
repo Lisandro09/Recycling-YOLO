{
 "cells": [
  {
   "cell_type": "code",
   "execution_count": 1,
   "id": "d40175bb-ea47-4baa-acf5-c3a928abdc40",
   "metadata": {},
   "outputs": [
    {
     "name": "stdout",
     "output_type": "stream",
     "text": [
      "cwd: C:\\Users\\lisan\\Jupyter Notebook Projects\\Recycling-YOLO\n"
     ]
    }
   ],
   "source": [
    "import os\n",
    "print(\"cwd:\", os.getcwd())  # should print your repo root"
   ]
  },
  {
   "cell_type": "code",
   "execution_count": 1,
   "id": "f535c60a-00d5-4b02-b5be-0d7fe78a4286",
   "metadata": {},
   "outputs": [
    {
     "name": "stdout",
     "output_type": "stream",
     "text": [
      "train: C:\\Users\\lisan\\Jupyter Notebook Projects\\Recycling-YOLO\\data\\processed\\images\\train True\n",
      "val:   C:\\Users\\lisan\\Jupyter Notebook Projects\\Recycling-YOLO\\data\\processed\\images\\val True\n",
      "test:  C:\\Users\\lisan\\Jupyter Notebook Projects\\Recycling-YOLO\\data\\processed\\images\\test True\n"
     ]
    }
   ],
   "source": [
    "from pathlib import Path\n",
    "import yaml\n",
    "\n",
    "with open(\"data/recycle.yaml\") as f:\n",
    "    y = yaml.safe_load(f)\n",
    "\n",
    "def p(x):\n",
    "    x = Path(y.get(\"path\", \".\")) / x\n",
    "    return x.resolve()\n",
    "\n",
    "print(\"train:\", p(y[\"train\"]), p(y[\"train\"]).exists())\n",
    "print(\"val:  \", p(y[\"val\"]),   p(y[\"val\"]).exists())\n",
    "print(\"test: \", p(y[\"test\"]),  p(y[\"test\"]).exists())\n"
   ]
  },
  {
   "cell_type": "code",
   "execution_count": null,
   "id": "6ad54b1d-5829-4481-b15b-37a93803b218",
   "metadata": {},
   "outputs": [],
   "source": [
    "!python yolov5/train.py --img 640 --batch 16 --epochs 100 \\\n",
    "  --data data/recycle.yaml --weights yolov5s.pt \\\n",
    "  --project runs/recycle --name v1"
   ]
  }
 ],
 "metadata": {
  "kernelspec": {
   "display_name": "Python 3 (ipykernel)",
   "language": "python",
   "name": "python3"
  },
  "language_info": {
   "codemirror_mode": {
    "name": "ipython",
    "version": 3
   },
   "file_extension": ".py",
   "mimetype": "text/x-python",
   "name": "python",
   "nbconvert_exporter": "python",
   "pygments_lexer": "ipython3",
   "version": "3.13.5"
  }
 },
 "nbformat": 4,
 "nbformat_minor": 5
}
