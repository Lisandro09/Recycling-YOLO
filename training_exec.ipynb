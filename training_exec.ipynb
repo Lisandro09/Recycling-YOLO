{
 "cells": [
  {
   "cell_type": "code",
   "execution_count": 1,
   "id": "d40175bb-ea47-4baa-acf5-c3a928abdc40",
   "metadata": {},
   "outputs": [
    {
     "name": "stdout",
     "output_type": "stream",
     "text": [
      "cwd: C:\\Users\\lisan\\Jupyter Notebook Projects\\Recycling-YOLO\n"
     ]
    }
   ],
   "source": [
    "import os\n",
    "print(\"cwd:\", os.getcwd())  # should print your repo root"
   ]
  },
  {
   "cell_type": "code",
   "execution_count": 1,
   "id": "f535c60a-00d5-4b02-b5be-0d7fe78a4286",
   "metadata": {},
   "outputs": [
    {
     "name": "stdout",
     "output_type": "stream",
     "text": [
      "train: C:\\Users\\lisan\\Jupyter Notebook Projects\\Recycling-YOLO\\data\\processed\\images\\train True\n",
      "val:   C:\\Users\\lisan\\Jupyter Notebook Projects\\Recycling-YOLO\\data\\processed\\images\\val True\n",
      "test:  C:\\Users\\lisan\\Jupyter Notebook Projects\\Recycling-YOLO\\data\\processed\\images\\test True\n"
     ]
    }
   ],
   "source": [
    "from pathlib import Path\n",
    "import yaml\n",
    "\n",
    "with open(\"data/recycle.yaml\") as f:\n",
    "    y = yaml.safe_load(f)\n",
    "\n",
    "def p(x):\n",
    "    x = Path(y.get(\"path\", \".\")) / x\n",
    "    return x.resolve()\n",
    "\n",
    "print(\"train:\", p(y[\"train\"]), p(y[\"train\"]).exists())\n",
    "print(\"val:  \", p(y[\"val\"]),   p(y[\"val\"]).exists())\n",
    "print(\"test: \", p(y[\"test\"]),  p(y[\"test\"]).exists())\n"
   ]
  },
  {
   "cell_type": "code",
   "execution_count": 2,
   "id": "0e56a2fd-8122-440e-b86c-4feaafed9fd8",
   "metadata": {},
   "outputs": [
    {
     "name": "stderr",
     "output_type": "stream",
     "text": [
      "\u001b[34m\u001b[1mtrain: \u001b[0mweights=yolov5s.pt, cfg=, data=data/recycle.yaml, hyp=yolov5\\data\\hyps\\hyp.scratch-low.yaml, epochs=100, batch_size=16, imgsz=640, rect=False, resume=False, nosave=False, noval=False, noautoanchor=False, noplots=False, evolve=None, evolve_population=yolov5\\data\\hyps, resume_evolve=None, bucket=, cache=None, image_weights=False, device=, multi_scale=False, single_cls=False, optimizer=SGD, sync_bn=False, workers=8, project=runs/recycle, name=v1, exist_ok=False, quad=False, cos_lr=False, label_smoothing=0.0, patience=100, freeze=[0], save_period=-1, seed=0, local_rank=-1, entity=None, upload_dataset=False, bbox_interval=-1, artifact_alias=latest, ndjson_console=False, ndjson_file=False\n",
      "\u001b[34m\u001b[1mgithub: \u001b[0mup to date with https://github.com/ultralytics/yolov5 \n",
      "YOLOv5  2025-8-26 Python-3.13.5 torch-2.8.0+cpu CPU\n",
      "\n",
      "\u001b[34m\u001b[1mhyperparameters: \u001b[0mlr0=0.01, lrf=0.01, momentum=0.937, weight_decay=0.0005, warmup_epochs=3.0, warmup_momentum=0.8, warmup_bias_lr=0.1, box=0.05, cls=0.5, cls_pw=1.0, obj=1.0, obj_pw=1.0, iou_t=0.2, anchor_t=4.0, fl_gamma=0.0, hsv_h=0.015, hsv_s=0.7, hsv_v=0.4, degrees=0.0, translate=0.1, scale=0.5, shear=0.0, perspective=0.0, flipud=0.0, fliplr=0.5, mosaic=1.0, mixup=0.0, copy_paste=0.0\n",
      "\u001b[34m\u001b[1mComet: \u001b[0mrun 'pip install comet_ml' to automatically track and visualize YOLOv5  runs in Comet\n",
      "\u001b[34m\u001b[1mTensorBoard: \u001b[0mStart with 'tensorboard --logdir runs\\recycle', view at http://localhost:6006/\n",
      "\n",
      "Dataset not found , missing paths ['C:\\\\Users\\\\lisan\\\\Jupyter Notebook Projects\\\\Recycling-YOLO\\\\yolov5\\\\data\\\\processed\\\\images\\\\val']\n",
      "Traceback (most recent call last):\n",
      "  File \u001b[35m\"C:\\Users\\lisan\\Jupyter Notebook Projects\\Recycling-YOLO\\yolov5\\train.py\"\u001b[0m, line \u001b[35m988\u001b[0m, in \u001b[35m<module>\u001b[0m\n",
      "    \u001b[31mmain\u001b[0m\u001b[1;31m(opt)\u001b[0m\n",
      "    \u001b[31m~~~~\u001b[0m\u001b[1;31m^^^^^\u001b[0m\n",
      "  File \u001b[35m\"C:\\Users\\lisan\\Jupyter Notebook Projects\\Recycling-YOLO\\yolov5\\train.py\"\u001b[0m, line \u001b[35m690\u001b[0m, in \u001b[35mmain\u001b[0m\n",
      "    \u001b[31mtrain\u001b[0m\u001b[1;31m(opt.hyp, opt, device, callbacks)\u001b[0m\n",
      "    \u001b[31m~~~~~\u001b[0m\u001b[1;31m^^^^^^^^^^^^^^^^^^^^^^^^^^^^^^^^^\u001b[0m\n",
      "  File \u001b[35m\"C:\\Users\\lisan\\Jupyter Notebook Projects\\Recycling-YOLO\\yolov5\\train.py\"\u001b[0m, line \u001b[35m205\u001b[0m, in \u001b[35mtrain\u001b[0m\n",
      "    data_dict = data_dict or \u001b[31mcheck_dataset\u001b[0m\u001b[1;31m(data)\u001b[0m  # check if None\n",
      "                             \u001b[31m~~~~~~~~~~~~~\u001b[0m\u001b[1;31m^^^^^^\u001b[0m\n",
      "  File \u001b[35m\"C:\\Users\\lisan\\Jupyter Notebook Projects\\Recycling-YOLO\\yolov5\\utils\\general.py\"\u001b[0m, line \u001b[35m565\u001b[0m, in \u001b[35mcheck_dataset\u001b[0m\n",
      "    raise Exception(\"Dataset not found \\u274c\")\n",
      "\u001b[1;35mException\u001b[0m: \u001b[35mDataset not found \\u274c\u001b[0m\n"
     ]
    }
   ],
   "source": [
    "!python yolov5/train.py --img 640 --batch 16 --epochs 100 \\\n",
    "  --data data/recycle.yaml --weights yolov5s.pt \\\n",
    "  --project runs/recycle --name v1"
   ]
  },
  {
   "cell_type": "code",
   "execution_count": null,
   "id": "6ad54b1d-5829-4481-b15b-37a93803b218",
   "metadata": {},
   "outputs": [],
   "source": []
  }
 ],
 "metadata": {
  "kernelspec": {
   "display_name": "Python 3 (ipykernel)",
   "language": "python",
   "name": "python3"
  },
  "language_info": {
   "codemirror_mode": {
    "name": "ipython",
    "version": 3
   },
   "file_extension": ".py",
   "mimetype": "text/x-python",
   "name": "python",
   "nbconvert_exporter": "python",
   "pygments_lexer": "ipython3",
   "version": "3.13.5"
  }
 },
 "nbformat": 4,
 "nbformat_minor": 5
}
